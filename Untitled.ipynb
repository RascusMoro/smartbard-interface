{
 "cells": [
  {
   "cell_type": "code",
   "execution_count": 2,
   "id": "4e8bc5e1",
   "metadata": {},
   "outputs": [],
   "source": [
    "import pyautogui\n",
    "\n",
    "x = pyautogui.hotkey('f5') #Simulates F5 key press = page refresh\n"
   ]
  },
  {
   "cell_type": "code",
   "execution_count": 21,
   "id": "19e8e869",
   "metadata": {},
   "outputs": [],
   "source": [
    "x"
   ]
  },
  {
   "cell_type": "code",
   "execution_count": 24,
   "id": "835bb943",
   "metadata": {},
   "outputs": [],
   "source": [
    "pyautogui.hotkey(\"command\", \"r\", interval=0.25 )"
   ]
  },
  {
   "cell_type": "code",
   "execution_count": null,
   "id": "bbb04feb",
   "metadata": {},
   "outputs": [],
   "source": []
  }
 ],
 "metadata": {
  "kernelspec": {
   "display_name": "Python 3 (ipykernel)",
   "language": "python",
   "name": "python3"
  },
  "language_info": {
   "codemirror_mode": {
    "name": "ipython",
    "version": 3
   },
   "file_extension": ".py",
   "mimetype": "text/x-python",
   "name": "python",
   "nbconvert_exporter": "python",
   "pygments_lexer": "ipython3",
   "version": "3.10.6"
  },
  "toc": {
   "base_numbering": 1,
   "nav_menu": {},
   "number_sections": true,
   "sideBar": true,
   "skip_h1_title": false,
   "title_cell": "Table of Contents",
   "title_sidebar": "Contents",
   "toc_cell": false,
   "toc_position": {},
   "toc_section_display": true,
   "toc_window_display": false
  }
 },
 "nbformat": 4,
 "nbformat_minor": 5
}
